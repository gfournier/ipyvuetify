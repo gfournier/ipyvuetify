{
 "cells": [
  {
   "cell_type": "code",
   "execution_count": 4,
   "metadata": {},
   "outputs": [],
   "source": [
    "import ipywidgets\n",
    "import ipybootstrapvue as bs\n",
    "from threading import Timer\n",
    "import io\n",
    "import requests\n",
    "import pandas as pd"
   ]
  },
  {
   "cell_type": "code",
   "execution_count": 5,
   "metadata": {},
   "outputs": [],
   "source": [
    "csv = requests.get('https://www.openml.org/data/get_csv/16826755/phpMYEkMl').content.decode()\n",
    "df = pd.read_csv(io.StringIO(csv))\n",
    "# df.head()"
   ]
  },
  {
   "cell_type": "code",
   "execution_count": 6,
   "metadata": {},
   "outputs": [],
   "source": [
    "def get_sample_records():\n",
    "    return df.sample(20).to_dict(orient='records')"
   ]
  },
  {
   "cell_type": "code",
   "execution_count": 8,
   "metadata": {},
   "outputs": [
    {
     "data": {
      "application/vnd.jupyter.widget-view+json": {
       "model_id": "04864a6b150e40b4a85728581e683e13",
       "version_major": 2,
       "version_minor": 0
      },
      "text/plain": [
       "Container(children=[Row(children=[Col(children=[Btn(children=['Load sample'], pill=False, size='lg', variant='…"
      ]
     },
     "metadata": {},
     "output_type": "display_data"
    }
   ],
   "source": [
    "count = 0\n",
    "\n",
    "btn = bs.Btn(children=['Load sample'],\n",
    "              variant='primary',\n",
    "              pill=False,\n",
    "              size='lg')\n",
    "\n",
    "elem = bs.Badge(children=[f'{count}'], variant=\"danger\")\n",
    "\n",
    "table = bs.Table(items=[],\n",
    "                  fields=df.columns.tolist(),\n",
    "                  striped=True,\n",
    "                  hover=True)\n",
    "\n",
    "def toggleLoading(loading):\n",
    "    # btn.loading = not btn.loading\n",
    "    if loading:\n",
    "        btn.children=['Loading...']\n",
    "    else:\n",
    "        btn.children=['Load sample']\n",
    "        table.items = get_sample_records()\n",
    "    btn.disabled = loading\n",
    "\n",
    "def on_loader_click(*args):\n",
    "    global count\n",
    "    count += 1\n",
    "    elem.children = [f'{count}']\n",
    "    toggleLoading(True)\n",
    "    Timer(1.0, lambda: toggleLoading(False)).start()\n",
    "    \n",
    "btn.on_event('click', on_loader_click)\n",
    "\n",
    "bs.Container(children=[\n",
    "    bs.Row(children=[\n",
    "        bs.Col(children=[btn]),\n",
    "        bs.Col(children=[\"Invoked: \", elem])]),\n",
    "    bs.Row(children=[table])\n",
    "])"
   ]
  },
  {
   "cell_type": "code",
   "execution_count": null,
   "metadata": {},
   "outputs": [],
   "source": []
  }
 ],
 "metadata": {
  "kernelspec": {
   "display_name": "Python (ipydash)",
   "language": "python",
   "name": "ipydash"
  },
  "language_info": {
   "codemirror_mode": {
    "name": "ipython",
    "version": 3
   },
   "file_extension": ".py",
   "mimetype": "text/x-python",
   "name": "python",
   "nbconvert_exporter": "python",
   "pygments_lexer": "ipython3",
   "version": "3.6.8"
  }
 },
 "nbformat": 4,
 "nbformat_minor": 2
}
